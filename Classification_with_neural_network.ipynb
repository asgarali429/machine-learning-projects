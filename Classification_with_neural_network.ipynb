{
  "nbformat": 4,
  "nbformat_minor": 0,
  "metadata": {
    "colab": {
      "provenance": [],
      "authorship_tag": "ABX9TyO7xCJ1NQOb7cg6oF5VFwf7",
      "include_colab_link": true
    },
    "kernelspec": {
      "name": "python3",
      "display_name": "Python 3"
    },
    "language_info": {
      "name": "python"
    }
  },
  "cells": [
    {
      "cell_type": "markdown",
      "metadata": {
        "id": "view-in-github",
        "colab_type": "text"
      },
      "source": [
        "<a href=\"https://colab.research.google.com/github/asgarali429/machine-learning-projects/blob/main/Classification_with_neural_network.ipynb\" target=\"_parent\"><img src=\"https://colab.research.google.com/assets/colab-badge.svg\" alt=\"Open In Colab\"/></a>"
      ]
    },
    {
      "cell_type": "code",
      "execution_count": 1,
      "metadata": {
        "colab": {
          "base_uri": "https://localhost:8080/"
        },
        "id": "HM9_PFYVu8EX",
        "outputId": "9b64043f-df9d-41ea-a1ac-24043ca1a255"
      },
      "outputs": [
        {
          "output_type": "stream",
          "name": "stdout",
          "text": [
            "Downloading data from https://storage.googleapis.com/tensorflow/tf-keras-datasets/train-labels-idx1-ubyte.gz\n",
            "29515/29515 [==============================] - 0s 0us/step\n",
            "Downloading data from https://storage.googleapis.com/tensorflow/tf-keras-datasets/train-images-idx3-ubyte.gz\n",
            "26421880/26421880 [==============================] - 0s 0us/step\n",
            "Downloading data from https://storage.googleapis.com/tensorflow/tf-keras-datasets/t10k-labels-idx1-ubyte.gz\n",
            "5148/5148 [==============================] - 0s 0us/step\n",
            "Downloading data from https://storage.googleapis.com/tensorflow/tf-keras-datasets/t10k-images-idx3-ubyte.gz\n",
            "4422102/4422102 [==============================] - 0s 0us/step\n"
          ]
        }
      ],
      "source": [
        "import tensorflow as tf\n",
        "from tensorflow import keras\n",
        "import numpy as np\n",
        "import matplotlib.pyplot as plt\n",
        "fashion = keras.datasets.fashion_mnist\n",
        "(xtrain, ytrain), (xtest, ytest) = fashion.load_data()"
      ]
    },
    {
      "cell_type": "code",
      "source": [
        "image = xtrain[9]\n",
        "# print(image)\n",
        "print(ytrain[9])\n",
        "plt.imshow(image)\n"
      ],
      "metadata": {
        "colab": {
          "base_uri": "https://localhost:8080/",
          "height": 465
        },
        "id": "iLOYzK2mwCEY",
        "outputId": "fa77b862-1693-4557-de4a-c4280891d21e"
      },
      "execution_count": 5,
      "outputs": [
        {
          "output_type": "stream",
          "name": "stdout",
          "text": [
            "5\n"
          ]
        },
        {
          "output_type": "execute_result",
          "data": {
            "text/plain": [
              "<matplotlib.image.AxesImage at 0x7cc78f72ee90>"
            ]
          },
          "metadata": {},
          "execution_count": 5
        },
        {
          "output_type": "display_data",
          "data": {
            "text/plain": [
              "<Figure size 640x480 with 1 Axes>"
            ],
            "image/png": "[encoded data removed]"
          },
          "metadata": {}
        }
      ]
    },
    {
      "cell_type": "code",
      "source": [
        "print(xtrain.shape)\n",
        "print(xtest.shape)"
      ],
      "metadata": {
        "colab": {
          "base_uri": "https://localhost:8080/"
        },
        "id": "hrCwV5gEwlfk",
        "outputId": "1eb040b0-eb11-4887-9997-df2c6c92a260"
      },
      "execution_count": 6,
      "outputs": [
        {
          "output_type": "stream",
          "name": "stdout",
          "text": [
            "(60000, 28, 28)\n",
            "(10000, 28, 28)\n"
          ]
        }
      ]
    },
    {
      "cell_type": "code",
      "source": [
        "model = keras.models.Sequential([\n",
        "    keras.layers.Flatten(input_shape=[28, 28]),\n",
        "    keras.layers.Dense(300, activation=\"relu\"),\n",
        "    keras.layers.Dense(100, activation=\"relu\"),\n",
        "    keras.layers.Dense(10, activation=\"softmax\")\n",
        "])\n",
        "print(model.summary())"
      ],
      "metadata": {
        "colab": {
          "base_uri": "https://localhost:8080/"
        },
        "id": "5p8x_myNw_PU",
        "outputId": "69d08c1d-c8bb-4bdd-fb1b-c979724e1fc3"
      },
      "execution_count": 7,
      "outputs": [
        {
          "output_type": "stream",
          "name": "stdout",
          "text": [
            "Model: \"sequential\"\n",
            "_________________________________________________________________\n",
            " Layer (type)                Output Shape              Param #   \n",
            "=================================================================\n",
            " flatten (Flatten)           (None, 784)               0         \n",
            "                                                                 \n",
            " dense (Dense)               (None, 300)               235500    \n",
            "                                                                 \n",
            " dense_1 (Dense)             (None, 100)               30100     \n",
            "                                                                 \n",
            " dense_2 (Dense)             (None, 10)                1010      \n",
            "                                                                 \n",
            "=================================================================\n",
            "Total params: 266610 (1.02 MB)\n",
            "Trainable params: 266610 (1.02 MB)\n",
            "Non-trainable params: 0 (0.00 Byte)\n",
            "_________________________________________________________________\n",
            "None\n"
          ]
        }
      ]
    },
    {
      "cell_type": "code",
      "source": [
        "xvalid, xtrain = xtrain[:5000]/255.0, xtrain[5000:]/255.0\n",
        "yvalid, ytrain = ytrain[:5000], ytrain[5000:]"
      ],
      "metadata": {
        "id": "j5y90q22xruC"
      },
      "execution_count": 8,
      "outputs": []
    },
    {
      "cell_type": "code",
      "source": [
        "model.compile(loss=\"sparse_categorical_crossentropy\",\n",
        "              optimizer=\"sgd\",\n",
        "              metrics=[\"accuracy\"])\n",
        "history = model.fit(xtrain, ytrain, epochs=30,\n",
        "                    validation_data=(xvalid, yvalid))"
      ],
      "metadata": {
        "colab": {
          "base_uri": "https://localhost:8080/"
        },
        "id": "ZW7nVEo_yhoT",
        "outputId": "1b6c6811-56de-4f87-e86b-c1991a2bc122"
      },
      "execution_count": 9,
      "outputs": [
        {
          "output_type": "stream",
          "name": "stdout",
          "text": [
            "Epoch 1/30\n",
            "1719/1719 [==============================] - 10s 6ms/step - loss: 0.7140 - accuracy: 0.7655 - val_loss: 0.5197 - val_accuracy: 0.8258\n",
            "Epoch 2/30\n",
            "1719/1719 [==============================] - 11s 6ms/step - loss: 0.4886 - accuracy: 0.8301 - val_loss: 0.4651 - val_accuracy: 0.8406\n",
            "Epoch 3/30\n",
            "1719/1719 [==============================] - 8s 5ms/step - loss: 0.4440 - accuracy: 0.8454 - val_loss: 0.4231 - val_accuracy: 0.8570\n",
            "Epoch 4/30\n",
            "1719/1719 [==============================] - 9s 5ms/step - loss: 0.4162 - accuracy: 0.8538 - val_loss: 0.4403 - val_accuracy: 0.8358\n",
            "Epoch 5/30\n",
            "1719/1719 [==============================] - 9s 5ms/step - loss: 0.3960 - accuracy: 0.8606 - val_loss: 0.4000 - val_accuracy: 0.8624\n",
            "Epoch 6/30\n",
            "1719/1719 [==============================] - 10s 6ms/step - loss: 0.3814 - accuracy: 0.8664 - val_loss: 0.3724 - val_accuracy: 0.8704\n",
            "Epoch 7/30\n",
            "1719/1719 [==============================] - 8s 5ms/step - loss: 0.3673 - accuracy: 0.8705 - val_loss: 0.3858 - val_accuracy: 0.8676\n",
            "Epoch 8/30\n",
            "1719/1719 [==============================] - 9s 5ms/step - loss: 0.3559 - accuracy: 0.8748 - val_loss: 0.3591 - val_accuracy: 0.8776\n",
            "Epoch 9/30\n",
            "1719/1719 [==============================] - 10s 6ms/step - loss: 0.3456 - accuracy: 0.8784 - val_loss: 0.3547 - val_accuracy: 0.8772\n",
            "Epoch 10/30\n",
            "1719/1719 [==============================] - 9s 5ms/step - loss: 0.3366 - accuracy: 0.8809 - val_loss: 0.3585 - val_accuracy: 0.8766\n",
            "Epoch 11/30\n",
            "1719/1719 [==============================] - 9s 5ms/step - loss: 0.3281 - accuracy: 0.8835 - val_loss: 0.3513 - val_accuracy: 0.8784\n",
            "Epoch 12/30\n",
            "1719/1719 [==============================] - 9s 5ms/step - loss: 0.3197 - accuracy: 0.8868 - val_loss: 0.3498 - val_accuracy: 0.8738\n",
            "Epoch 13/30\n",
            "1719/1719 [==============================] - 9s 5ms/step - loss: 0.3126 - accuracy: 0.8889 - val_loss: 0.3282 - val_accuracy: 0.8820\n",
            "Epoch 14/30\n",
            "1719/1719 [==============================] - 8s 5ms/step - loss: 0.3047 - accuracy: 0.8900 - val_loss: 0.3359 - val_accuracy: 0.8836\n",
            "Epoch 15/30\n",
            "1719/1719 [==============================] - 10s 6ms/step - loss: 0.2988 - accuracy: 0.8931 - val_loss: 0.3173 - val_accuracy: 0.8850\n",
            "Epoch 16/30\n",
            "1719/1719 [==============================] - 10s 6ms/step - loss: 0.2923 - accuracy: 0.8953 - val_loss: 0.3226 - val_accuracy: 0.8876\n",
            "Epoch 17/30\n",
            "1719/1719 [==============================] - 10s 6ms/step - loss: 0.2862 - accuracy: 0.8983 - val_loss: 0.3170 - val_accuracy: 0.8850\n",
            "Epoch 18/30\n",
            "1719/1719 [==============================] - 14s 8ms/step - loss: 0.2810 - accuracy: 0.8998 - val_loss: 0.3068 - val_accuracy: 0.8910\n",
            "Epoch 19/30\n",
            "1719/1719 [==============================] - 11s 6ms/step - loss: 0.2762 - accuracy: 0.9019 - val_loss: 0.3181 - val_accuracy: 0.8878\n",
            "Epoch 20/30\n",
            "1719/1719 [==============================] - 8s 5ms/step - loss: 0.2702 - accuracy: 0.9042 - val_loss: 0.3071 - val_accuracy: 0.8900\n",
            "Epoch 21/30\n",
            "1719/1719 [==============================] - 9s 5ms/step - loss: 0.2652 - accuracy: 0.9054 - val_loss: 0.3208 - val_accuracy: 0.8862\n",
            "Epoch 22/30\n",
            "1719/1719 [==============================] - 9s 5ms/step - loss: 0.2603 - accuracy: 0.9081 - val_loss: 0.3022 - val_accuracy: 0.8908\n",
            "Epoch 23/30\n",
            "1719/1719 [==============================] - 9s 5ms/step - loss: 0.2552 - accuracy: 0.9093 - val_loss: 0.3028 - val_accuracy: 0.8942\n",
            "Epoch 24/30\n",
            "1719/1719 [==============================] - 9s 5ms/step - loss: 0.2511 - accuracy: 0.9100 - val_loss: 0.2936 - val_accuracy: 0.8956\n",
            "Epoch 25/30\n",
            "1719/1719 [==============================] - 9s 5ms/step - loss: 0.2466 - accuracy: 0.9126 - val_loss: 0.2947 - val_accuracy: 0.8936\n",
            "Epoch 26/30\n",
            "1719/1719 [==============================] - 9s 5ms/step - loss: 0.2426 - accuracy: 0.9140 - val_loss: 0.3078 - val_accuracy: 0.8890\n",
            "Epoch 27/30\n",
            "1719/1719 [==============================] - 9s 5ms/step - loss: 0.2386 - accuracy: 0.9137 - val_loss: 0.3006 - val_accuracy: 0.8938\n",
            "Epoch 28/30\n",
            "1719/1719 [==============================] - 9s 5ms/step - loss: 0.2347 - accuracy: 0.9157 - val_loss: 0.2953 - val_accuracy: 0.8930\n",
            "Epoch 29/30\n",
            "1719/1719 [==============================] - 9s 5ms/step - loss: 0.2305 - accuracy: 0.9178 - val_loss: 0.3012 - val_accuracy: 0.8882\n",
            "Epoch 30/30\n",
            "1719/1719 [==============================] - 9s 5ms/step - loss: 0.2270 - accuracy: 0.9190 - val_loss: 0.3175 - val_accuracy: 0.8838\n"
          ]
        }
      ]
    },
    {
      "cell_type": "code",
      "source": [
        "new = xtest[:5]\n",
        "predictions = model.predict(new)\n",
        "print(predictions)\n"
      ],
      "metadata": {
        "colab": {
          "base_uri": "https://localhost:8080/"
        },
        "id": "hNkjElj4ynWd",
        "outputId": "8e2984d8-c9a0-4756-9b28-0b6798a7dbae"
      },
      "execution_count": 12,
      "outputs": [
        {
          "output_type": "stream",
          "name": "stdout",
          "text": [
            "1/1 [==============================] - 0s 38ms/step\n",
            "[[0. 0. 0. 0. 0. 0. 0. 0. 0. 1.]\n",
            " [0. 0. 1. 0. 0. 0. 0. 0. 0. 0.]\n",
            " [0. 1. 0. 0. 0. 0. 0. 0. 0. 0.]\n",
            " [0. 1. 0. 0. 0. 0. 0. 0. 0. 0.]\n",
            " [1. 0. 0. 0. 0. 0. 0. 0. 0. 0.]]\n"
          ]
        }
      ]
    },
    {
      "cell_type": "code",
      "source": [
        "classes = np.argmax(predictions, axis=1)\n",
        "print(classes)\n"
      ],
      "metadata": {
        "colab": {
          "base_uri": "https://localhost:8080/"
        },
        "id": "1cCfdwgEz4jA",
        "outputId": "07a51827-3cf4-4ee0-c8b7-9c5bd7e47337"
      },
      "execution_count": 18,
      "outputs": [
        {
          "output_type": "stream",
          "name": "stdout",
          "text": [
            "[9 2 1 1 0]\n"
          ]
        }
      ]
    },
    {
      "cell_type": "code",
      "source": [
        "# prompt: how can i plot this above classes which my model predict\n",
        "\n",
        "class_names = ['T-shirt/top', 'Trouser', 'Pullover', 'Dress', 'Coat',\n",
        "               'Sandal', 'Shirt', 'Sneaker', 'Bag', 'Ankle boot']\n",
        "\n",
        "plt.figure(figsize=(10, 10))\n",
        "for i in range(5):\n",
        "    plt.subplot(1, 5, i + 1)\n",
        "    plt.xticks([])\n",
        "    plt.yticks([])\n",
        "    plt.grid(False)\n",
        "    plt.imshow(xtest[i], cmap=plt.cm.binary)\n",
        "    predicted_label = np.argmax(predictions[i])\n",
        "    true_label = ytest[i]\n",
        "    if predicted_label == true_label:\n",
        "        color = 'blue'\n",
        "    else:\n",
        "        color = 'red'\n",
        "    plt.xlabel(\"{} {:2.0f}% ({})\".format(class_names[predicted_label],\n",
        "                                         100*np.max(predictions[i]),\n",
        "                                         class_names[true_label]),\n",
        "                                         color=color)\n",
        "plt.show()\n"
      ],
      "metadata": {
        "colab": {
          "base_uri": "https://localhost:8080/",
          "height": 190
        },
        "id": "G5jppfyj0Gfd",
        "outputId": "df9fcd60-8ecc-4721-86e0-173ba31967b5"
      },
      "execution_count": 19,
      "outputs": [
        {
          "output_type": "display_data",
          "data": {
            "text/plain": [
              "<Figure size 1000x1000 with 5 Axes>"
            ],
            "image/png": "[encoded data removed]"
          },
          "metadata": {}
        }
      ]
    },
    {
      "cell_type": "code",
      "source": [],
      "metadata": {
        "id": "29LtvB5o1Z6P"
      },
      "execution_count": null,
      "outputs": []
    }
  ]
}